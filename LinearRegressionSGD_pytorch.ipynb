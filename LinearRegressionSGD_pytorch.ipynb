{
 "cells": [
  {
   "cell_type": "markdown",
   "metadata": {},
   "source": [
    "## Введение"
   ]
  },
  {
   "cell_type": "markdown",
   "metadata": {},
   "source": [
    "Работа по освоению линейной регрессии, используя библиотеку pytorch. Для этого считаю необходимым написать базовый алгоритм самостоятельно, а потом сравнить его с готовым из пакета sklearn. Для работы буду использовать модель линейной регрессии с L2 регуляризацией и стохастическим градиентным спуском в виде оптимизатора. "
   ]
  },
  {
   "cell_type": "markdown",
   "metadata": {},
   "source": [
    "## Импортируем все необходимое"
   ]
  },
  {
   "cell_type": "code",
   "execution_count": 1,
   "metadata": {},
   "outputs": [],
   "source": [
    "import torch\n",
    "from sklearn.datasets import load_boston\n",
    "import matplotlib.pyplot as plt\n",
    "import numpy as np\n",
    "from sklearn.linear_model import SGDRegressor\n",
    "from sklearn.pipeline import make_pipeline\n",
    "from sklearn.preprocessing import StandardScaler\n",
    "from sklearn.model_selection import train_test_split"
   ]
  },
  {
   "cell_type": "markdown",
   "metadata": {},
   "source": [
    "## Подготовка\n",
    "\n"
   ]
  },
  {
   "cell_type": "markdown",
   "metadata": {},
   "source": [
    "Создадим класс, отвечающий за стандартизацию, который может быть интегрирован в nn.Sequential"
   ]
  },
  {
   "cell_type": "code",
   "execution_count": 2,
   "metadata": {},
   "outputs": [],
   "source": [
    "class Standardscaler(torch.nn.Module):\n",
    "    def __init__(self):\n",
    "        super().__init__()\n",
    "\n",
    "    def forward(self, input_batch):\n",
    "        std, mean = torch.std_mean(input_batch.type(torch.float32), unbiased=False)\n",
    "        total = (input_batch - mean) / std\n",
    "        return total"
   ]
  },
  {
   "cell_type": "markdown",
   "metadata": {},
   "source": [
    "## Инициализация "
   ]
  },
  {
   "cell_type": "code",
   "execution_count": 3,
   "metadata": {},
   "outputs": [],
   "source": [
    "boston = load_boston()"
   ]
  },
  {
   "cell_type": "code",
   "execution_count": 4,
   "metadata": {
    "scrolled": true
   },
   "outputs": [
    {
     "data": {
      "text/plain": [
       "<matplotlib.collections.PathCollection at 0x1ed8c5cee08>"
      ]
     },
     "execution_count": 4,
     "metadata": {},
     "output_type": "execute_result"
    },
    {
     "data": {
      "image/png": "[encoded data removed]",
      "text/plain": [
       "<Figure size 432x288 with 1 Axes>"
      ]
     },
     "metadata": {
      "needs_background": "light"
     },
     "output_type": "display_data"
    }
   ],
   "source": [
    "plt.scatter(boston.data[:,-1],boston.target)"
   ]
  },
  {
   "cell_type": "markdown",
   "metadata": {},
   "source": [
    "Займемся предобработкой данных:\n",
    "1. Разделим данные на тестовую выборку и тренировочную \n",
    "1. Преобразуем данные в формат подходящий для обработки pytorch"
   ]
  },
  {
   "cell_type": "code",
   "execution_count": 5,
   "metadata": {},
   "outputs": [],
   "source": [
    "train_X,test_X,train_Y,test_Y = train_test_split(boston.data,\n",
    "                                                 boston.target,\n",
    "                                                 test_size = 0.33,\n",
    "                                                 random_state = 42)\n",
    "\n",
    "train_X_torch = torch.tensor(train_X, dtype = torch.float32)\n",
    "train_Y_torch = torch.tensor(train_Y, dtype = torch.float32)\n",
    "test_X_torch = torch.tensor(test_X, dtype = torch.float32)\n",
    "test_Y_torch = torch.tensor(test_Y, dtype = torch.float32)\n",
    "\n"
   ]
  },
  {
   "cell_type": "markdown",
   "metadata": {},
   "source": [
    "Создаем модель линйной регрессии реализованной при помощи pytorch"
   ]
  },
  {
   "cell_type": "code",
   "execution_count": 6,
   "metadata": {
    "scrolled": false
   },
   "outputs": [],
   "source": [
    "class LinearRegressionSGD_torch():\n",
    "    def __init__(self,n_features, lr = 0.001, l2 = 1,max_iter = 1000):\n",
    "        self.n_features = n_features\n",
    "        self.model = torch.nn.Sequential()\n",
    "        self.model.add_module('first',Standardscaler())\n",
    "        self.model.add_module('second',torch.nn.Linear(n_features,1))\n",
    "        self.lr = lr\n",
    "        self.l2 = l2\n",
    "        self.max_iter = max_iter\n",
    "        self.optimizer = torch.optim.SGD(self.model.parameters(),\n",
    "                                         lr = self.lr,\n",
    "                                         weight_decay = self.l2)\n",
    "        \n",
    "        \n",
    "    def fit(self,design_matrix, target):\n",
    "        for i in range(self.max_iter):\n",
    "            sampling  = np.random.randint(0,design_matrix.shape[1],10)\n",
    "\n",
    "            part_design_matrix = design_matrix[sampling]\n",
    "            part_target_vector = target[sampling]\n",
    "\n",
    "            pred = self.model(part_design_matrix) \n",
    "            loss = torch.mean((part_target_vector - pred)**2)\n",
    "            loss.backward()  \n",
    "            self.optimizer.step()\n",
    "            self.optimizer.zero_grad()\n",
    "\n",
    "        return self.model\n",
    "    \n",
    "    def predict(self, design_matrix):\n",
    "        return self.model(design_matrix)\n",
    "\n",
    "\n",
    "    \n"
   ]
  },
  {
   "cell_type": "markdown",
   "metadata": {},
   "source": [
    "## Создаем объекты моделей, обединяем их в pipeline и тренеруем\n"
   ]
  },
  {
   "cell_type": "code",
   "execution_count": 7,
   "metadata": {},
   "outputs": [
    {
     "data": {
      "text/plain": [
       "Sequential(\n",
       "  (first): Standardscaler()\n",
       "  (second): Linear(in_features=13, out_features=1, bias=True)\n",
       ")"
      ]
     },
     "execution_count": 7,
     "metadata": {},
     "output_type": "execute_result"
    }
   ],
   "source": [
    "torch_LinearRegression = LinearRegressionSGD_torch(train_X_torch.shape[1])\n",
    "torch_LinearRegression.fit(train_X_torch,train_Y_torch)"
   ]
  },
  {
   "cell_type": "code",
   "execution_count": 8,
   "metadata": {
    "scrolled": true
   },
   "outputs": [
    {
     "data": {
      "text/plain": [
       "Pipeline(memory=None,\n",
       "         steps=[('standardscaler',\n",
       "                 StandardScaler(copy=True, with_mean=True, with_std=True)),\n",
       "                ('sgdregressor',\n",
       "                 SGDRegressor(alpha=0.0001, average=False, early_stopping=False,\n",
       "                              epsilon=0.1, eta0=0.01, fit_intercept=True,\n",
       "                              l1_ratio=0.15, learning_rate='invscaling',\n",
       "                              loss='squared_loss', max_iter=1000,\n",
       "                              n_iter_no_change=5, penalty='l2', power_t=0.25,\n",
       "                              random_state=None, shuffle=True, tol=0.001,\n",
       "                              validation_fraction=0.1, verbose=0,\n",
       "                              warm_start=False))],\n",
       "         verbose=False)"
      ]
     },
     "execution_count": 8,
     "metadata": {},
     "output_type": "execute_result"
    }
   ],
   "source": [
    "package_pipe = make_pipeline(StandardScaler(),SGDRegressor(max_iter = 1000))\n",
    "package_pipe.fit(train_X,train_Y)"
   ]
  },
  {
   "cell_type": "markdown",
   "metadata": {},
   "source": [
    "## Предсказываем метки"
   ]
  },
  {
   "cell_type": "code",
   "execution_count": 9,
   "metadata": {},
   "outputs": [],
   "source": [
    "sklearn_pred  = package_pipe.predict(test_X)\n",
    "self_torch_pred = torch_LinearRegression.predict(test_X_torch)"
   ]
  },
  {
   "cell_type": "markdown",
   "metadata": {},
   "source": [
    " ## Высчитываем ошибку каждой модели"
   ]
  },
  {
   "cell_type": "code",
   "execution_count": 10,
   "metadata": {},
   "outputs": [],
   "source": [
    "torch_loss = torch.mean((test_Y_torch - self_torch_pred)**2)\n",
    "sklearn_loss = np.mean((test_Y - sklearn_pred)**2)"
   ]
  },
  {
   "cell_type": "markdown",
   "metadata": {},
   "source": [
    "## Итоги"
   ]
  },
  {
   "cell_type": "code",
   "execution_count": 11,
   "metadata": {},
   "outputs": [
    {
     "name": "stdout",
     "output_type": "stream",
     "text": [
      "Ошибка полученная на предсказаниях проведенныйх ручным алгоритмом 85.064 и алгоритмом sklearn 21.223\n",
      "Разница между результатами составила: 63.8\n"
     ]
    }
   ],
   "source": [
    "print('Ошибка полученная на предсказаниях проведенныйх ручным алгоритмом {:.3f} и алгоритмом sklearn {:.3f}'.format(torch_loss, sklearn_loss))\n",
    "print(\"Разница между результатами составила: {:.3}\".format(abs(torch_loss - sklearn_loss)))"
   ]
  }
 ],
 "metadata": {
  "kernelspec": {
   "display_name": "Python 3",
   "language": "python",
   "name": "python3"
  },
  "language_info": {
   "codemirror_mode": {
    "name": "ipython",
    "version": 3
   },
   "file_extension": ".py",
   "mimetype": "text/x-python",
   "name": "python",
   "nbconvert_exporter": "python",
   "pygments_lexer": "ipython3",
   "version": "3.7.4"
  }
 },
 "nbformat": 4,
 "nbformat_minor": 2
}
